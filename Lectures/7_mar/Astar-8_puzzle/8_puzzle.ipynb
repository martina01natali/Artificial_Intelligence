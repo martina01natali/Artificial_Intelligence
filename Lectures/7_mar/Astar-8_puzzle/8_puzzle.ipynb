{
 "cells": [
  {
   "cell_type": "markdown",
   "metadata": {},
   "source": [
    "# A* search - 8 Puzzle"
   ]
  },
  {
   "cell_type": "markdown",
   "metadata": {},
   "source": [
    "## Introduction\n",
    "\n",
    "The first thing one has to do is to build an admissable heuristic function, that must always be an underestimation of the real cost."
   ]
  },
  {
   "cell_type": "code",
   "execution_count": 2,
   "metadata": {},
   "outputs": [],
   "source": [
    "from collections import deque\n",
    "import itertools\n",
    "import math\n",
    "import heapq\n",
    "import time\n",
    "import random\n",
    "from colorama import Fore, Style\n",
    "import numpy as np"
   ]
  },
  {
   "cell_type": "markdown",
   "metadata": {},
   "source": [
    "After some **import** we define how large our puzzle has to be and we construct our winning board by the command `arange`, adding a zero to his end by `append`. Our initial board will be a shuffled winning board. `tolist()` simply convert an array to a list. \n",
    "\n",
    "Pay attention when copying lists or arrays! If you *don't* put `[:]` then they will be treated as the *same* object, so you cannot modify one without changing the other.\n",
    "\n",
    "Furthermore we ask the code with to trigger an error if our puzzle is  not a square!"
   ]
  },
  {
   "cell_type": "code",
   "execution_count": 3,
   "metadata": {},
   "outputs": [],
   "source": [
    "Puzzle=8 #as a constant now\n",
    "\n",
    "\n",
    "WINNING_BOARD = (np.append(np.arange(1,Puzzle+1,1),0)).tolist()\n",
    "INITIAL_BOARD = WINNING_BOARD[:]\n",
    "random.shuffle(INITIAL_BOARD)\n",
    "\n",
    "#if math.sqrt(Puzzle+1)%1==0:\n",
    "#    pass\n",
    "#else:\n",
    "#        print(Style.BRIGHT+Fore.RED+'\\n\\n\\n\\n It will not work! It should be a square so sqrt(n+1) must be an integer\\n\\n')"
   ]
  },
  {
   "cell_type": "markdown",
   "metadata": {},
   "source": [
    "The following function tells us if the 8 puzzle is solvable. With a 15 puzzle we need a different function"
   ]
  },
  {
   "cell_type": "code",
   "execution_count": 4,
   "metadata": {},
   "outputs": [],
   "source": [
    "def isunsolvable(board,dim):\n",
    "    count=0\n",
    "    for i in range(dim):\n",
    "        for j in range(i,dim+1):\n",
    "            if (board[i] > board[j] and              \n",
    "                board[j]!=0):\n",
    "                count+=1\n",
    "    if count%2==1:\n",
    "        return True\n",
    "    else:\n",
    "        return False"
   ]
  },
  {
   "cell_type": "markdown",
   "metadata": {},
   "source": [
    "This while cycle shuffle our puzzle until it is solvable"
   ]
  },
  {
   "cell_type": "code",
   "execution_count": 5,
   "metadata": {},
   "outputs": [],
   "source": [
    "while isunsolvable(INITIAL_BOARD,Puzzle):\n",
    "      random.shuffle(INITIAL_BOARD)"
   ]
  },
  {
   "cell_type": "markdown",
   "metadata": {},
   "source": [
    "Below some useful variables and just a function that print our board in a nice way:"
   ]
  },
  {
   "cell_type": "code",
   "execution_count": 6,
   "metadata": {},
   "outputs": [],
   "source": [
    "LEN_BOARD = Puzzle+1 #we have to count on the 0\n",
    "\n",
    "LEN = int(math.sqrt(LEN_BOARD))\n",
    "\n",
    "def board_print(board):\n",
    "    print(\"\\n\")\n",
    "    for i in range(LEN):\n",
    "        print(board[i * LEN: (i + 1) * LEN])"
   ]
  },
  {
   "cell_type": "markdown",
   "metadata": {},
   "source": [
    "\n",
    "<br>  \n",
    "\n",
    "So we have to go from"
   ]
  },
  {
   "cell_type": "code",
   "execution_count": 7,
   "metadata": {},
   "outputs": [
    {
     "name": "stdout",
     "output_type": "stream",
     "text": [
      "\n",
      "\n",
      "[7, 1, 5]\n",
      "[4, 0, 3]\n",
      "[2, 6, 8]\n"
     ]
    }
   ],
   "source": [
    "board_print(INITIAL_BOARD)"
   ]
  },
  {
   "cell_type": "markdown",
   "metadata": {},
   "source": [
    "<br>\n",
    "to"
   ]
  },
  {
   "cell_type": "code",
   "execution_count": 8,
   "metadata": {},
   "outputs": [
    {
     "name": "stdout",
     "output_type": "stream",
     "text": [
      "\n",
      "\n",
      "[1, 2, 3]\n",
      "[4, 5, 6]\n",
      "[7, 8, 0]\n"
     ]
    }
   ],
   "source": [
    "board_print(WINNING_BOARD)"
   ]
  },
  {
   "cell_type": "markdown",
   "metadata": {},
   "source": [
    "<br>\n",
    "\n",
    "## Classes and Functions\n",
    "\n",
    "here the class `Puzzle` is defined with some functions:\n",
    "<br>\n",
    "<br>\n",
    "`is_win` returns the winning board when called\n",
    "<br>\n",
    "<br>\n",
    "\n",
    "`manhattan` returns the distance in steps between the starting board and the goal board. Here **i** is the index of  a tile in the initial board so `self.board[i]` returns the numeber there located. `WINNING_BOARD.index()` is the goal index, where the number `self.board[i]` in position *i* has to arrive.\n",
    "<br>\n",
    "The distance is here calculated based on the steps. % is the modulus operation, // is the integer division. If our matrix has indices from 0 to 8 the modulus operation gives us\n",
    "\n",
    "$$\\begin{pmatrix} 0 & 1 & 2 \\\\ 3 & 4 & 5 \\\\ 6 & 7 & 8 \\\\ \\end{pmatrix} \\ \\text{mod } 3\\,\\,=\\,\\,\\begin{pmatrix} 0 & 1 & 2 \\\\ 0 & 1 & 2 \\\\ 0 & 1 & 2 \\\\ \\end{pmatrix} $$ \n",
    "\n",
    "so the column index. The result of integer division gives the row index\n",
    "\n",
    "$$\\begin{pmatrix} 0 & 1 & 2 \\\\ 3 & 4 & 5 \\\\ 6 & 7 & 8 \\\\ \\end{pmatrix} \\ \\text{div } 3\\,\\,=\\,\\,\\begin{pmatrix} 0 & 0 & 0 \\\\ 1 & 1 & 1 \\\\ 2 & 2 & 2 \\\\ \\end{pmatrix} $$ \n",
    "\n",
    "\n",
    "<br>\n",
    "<br>\n",
    "\n",
    "`misplaced` returns simply as a distance the number of misplaced numbers\n",
    "\n",
    "<br>\n",
    "<br>"
   ]
  },
  {
   "cell_type": "code",
   "execution_count": 9,
   "metadata": {},
   "outputs": [],
   "source": [
    "class Puzzle:\n",
    "    def __init__(self, board,parent, depth):\n",
    "        self.board = board\n",
    "        self.parent = parent\n",
    "        self.depth = depth + 1 # depth is the number of times the object has been initiated, and increases at each run\n",
    "\n",
    "        if MANHATTAN:\n",
    "            self.value = self.manhattan() + self.depth\n",
    "\n",
    "        elif MISPLACED:\n",
    "            self.value = self.misplaced() + self.depth\n",
    "\n",
    "    def is_win(self):\n",
    "        return self.board == WINNING_BOARD\n",
    "\n",
    "    def manhattan(self):\n",
    "        counter = 0\n",
    "        for i in range(LEN_BOARD):\n",
    "            index = WINNING_BOARD.index(self.board[i])\n",
    "\n",
    "            counter += abs((i % LEN - index % LEN)) + abs((i // LEN - index // LEN))\n",
    "\n",
    "        return counter\n",
    "\n",
    "    def misplaced(self):\n",
    "        counter = 0\n",
    "        for i in range(LEN_BOARD):\n",
    "            if self.board[i] != WINNING_BOARD[i] and self.board[i] != 0:\n",
    "                counter += 1\n",
    "\n",
    "        return counter\n"
   ]
  },
  {
   "cell_type": "markdown",
   "metadata": {},
   "source": [
    "<br>\n",
    "Without going in too much details:\n",
    "<br>\n",
    "\n",
    "`get_possible_moves` receive in argument the current board and tells, as a list, the possible moves.\n",
    "<br>\n",
    "\n",
    "`get_board` receive in argument the current board and the possible moves.\n",
    "<br>\n",
    "<br>\n",
    "<br>\n",
    "\n",
    "`bfs` do all the job. It uses `heapq` and `deque` which we have imported at the start of this notebook.\n",
    "\n",
    "`deque` is a double-ended queue, or deque, it has the feature of adding and removing elements both from left and right. In particular `queque.popleft()` remove and element from the left.\n",
    "\n",
    "\n",
    "`heapq` module provides an implementation of the heap queue algorithm, also known as the priority queue algorithm. Heaps are binary trees for which every parent node has a value less than or equal to any of its children. \n",
    "\n",
    "Of `heapq` module we only to use `heapq.heappush()`, `heapq.heappop()`. The first push an item into the heap list, the second pop the smallest item instead\n",
    "<br>"
   ]
  },
  {
   "cell_type": "code",
   "execution_count": 10,
   "metadata": {},
   "outputs": [],
   "source": [
    "def get_possible_moves(board):\n",
    "    index = board.index(0)\n",
    "    moves = []\n",
    "\n",
    "    if int(index % LEN) > 0:\n",
    "        moves.append((index, index - 1))\n",
    "\n",
    "    if int(index % LEN) < LEN - 1:\n",
    "        moves.append((index, index + 1))\n",
    "\n",
    "    if int(index // LEN) > 0:\n",
    "        moves.append((index, index - LEN))\n",
    "\n",
    "    if int(index // LEN) < LEN - 1:\n",
    "        moves.append((index, index + LEN))\n",
    "\n",
    "    return moves\n",
    "\n",
    "\n",
    "def get_board(board, move):\n",
    "    new_board = board.board[:]\n",
    "\n",
    "    new_board[move[0]] = new_board[move[1]]\n",
    "    new_board[move[1]] = 0\n",
    "\n",
    "    return Puzzle(new_board, board, board.depth)\n",
    "\n",
    "\n",
    "def list_to_string(ls):\n",
    "    return \"\".join(str(ls))\n",
    "\n",
    "\n",
    "def bfs(node):\n",
    "    queue = deque([node])\n",
    "    heap = []\n",
    "    counter = itertools.count()\n",
    "\n",
    "    if MANHATTAN or MISPLACED:\n",
    "        heapq.heappush(heap, (node.value, next(counter), node))\n",
    "\n",
    "    visited = set()\n",
    "    k = 0\n",
    "\n",
    "    while queue:\n",
    "\n",
    "        if MANHATTAN or MISPLACED:\n",
    "            pop = heapq.heappop(heap)[2]\n",
    "        else:\n",
    "            pop = queue.popleft()\n",
    "\n",
    "        if k % 10000 == 0 and k !=0:\n",
    "            if MANHATTAN or MISPLACED:\n",
    "                print('The heap length is ',len(heap))\n",
    "            else:\n",
    "                print('The queque length is ',len(queue))\n",
    "\n",
    "        if pop.is_win():\n",
    "            if MANHATTAN or MISPLACED:\n",
    "                print('The FINAL heap length is ',len(heap))\n",
    "            else:\n",
    "                print('The FINAL queque length is ',len(queue))\n",
    "            return pop\n",
    "\n",
    "        for x in get_possible_moves(pop.board):\n",
    "            node_ = get_board(pop, x)\n",
    "\n",
    "            if list_to_string(node_.board) not in visited:\n",
    "                visited.add(list_to_string(node_.board))\n",
    "                if MANHATTAN or MISPLACED:\n",
    "                    heapq.heappush(heap, [node_.value, next(counter), node_])\n",
    "                else:\n",
    "                    queue.append(node_)\n",
    "        k += 1"
   ]
  },
  {
   "cell_type": "markdown",
   "metadata": {},
   "source": [
    "## Let's start\n",
    "\n",
    "Here our program finally starts. Before we decide which method we want to use in our search"
   ]
  },
  {
   "cell_type": "code",
   "execution_count": 15,
   "metadata": {},
   "outputs": [],
   "source": [
    "# Choose the strategy you want (one xor the other)\n",
    "MANHATTAN = True\n",
    "MISPLACED = False"
   ]
  },
  {
   "cell_type": "code",
   "execution_count": 16,
   "metadata": {},
   "outputs": [
    {
     "name": "stdout",
     "output_type": "stream",
     "text": [
      "The FINAL heap length is  2506\n",
      "\n",
      "\n",
      "[1, 2, 3]\n",
      "[4, 5, 6]\n",
      "[7, 8, 0]\n",
      "\n",
      "\n",
      "[1, 2, 3]\n",
      "[4, 5, 6]\n",
      "[7, 0, 8]\n",
      "\n",
      "\n",
      "[1, 2, 3]\n",
      "[4, 0, 6]\n",
      "[7, 5, 8]\n",
      "\n",
      "\n",
      "[1, 2, 3]\n",
      "[0, 4, 6]\n",
      "[7, 5, 8]\n",
      "\n",
      "\n",
      "[1, 2, 3]\n",
      "[7, 4, 6]\n",
      "[0, 5, 8]\n",
      "\n",
      "\n",
      "[1, 2, 3]\n",
      "[7, 4, 6]\n",
      "[5, 0, 8]\n",
      "\n",
      "\n",
      "[1, 2, 3]\n",
      "[7, 0, 6]\n",
      "[5, 4, 8]\n",
      "\n",
      "\n",
      "[1, 0, 3]\n",
      "[7, 2, 6]\n",
      "[5, 4, 8]\n",
      "\n",
      "\n",
      "[0, 1, 3]\n",
      "[7, 2, 6]\n",
      "[5, 4, 8]\n",
      "\n",
      "\n",
      "[7, 1, 3]\n",
      "[0, 2, 6]\n",
      "[5, 4, 8]\n",
      "\n",
      "\n",
      "[7, 1, 3]\n",
      "[5, 2, 6]\n",
      "[0, 4, 8]\n",
      "\n",
      "\n",
      "[7, 1, 3]\n",
      "[5, 2, 6]\n",
      "[4, 0, 8]\n",
      "\n",
      "\n",
      "[7, 1, 3]\n",
      "[5, 0, 6]\n",
      "[4, 2, 8]\n",
      "\n",
      "\n",
      "[7, 1, 3]\n",
      "[0, 5, 6]\n",
      "[4, 2, 8]\n",
      "\n",
      "\n",
      "[0, 1, 3]\n",
      "[7, 5, 6]\n",
      "[4, 2, 8]\n",
      "\n",
      "\n",
      "[1, 0, 3]\n",
      "[7, 5, 6]\n",
      "[4, 2, 8]\n",
      "\n",
      "\n",
      "[1, 5, 3]\n",
      "[7, 0, 6]\n",
      "[4, 2, 8]\n",
      "\n",
      "\n",
      "[1, 5, 3]\n",
      "[7, 6, 0]\n",
      "[4, 2, 8]\n",
      "\n",
      "\n",
      "[1, 5, 0]\n",
      "[7, 6, 3]\n",
      "[4, 2, 8]\n",
      "\n",
      "\n",
      "[1, 0, 5]\n",
      "[7, 6, 3]\n",
      "[4, 2, 8]\n",
      "\n",
      "\n",
      "[0, 1, 5]\n",
      "[7, 6, 3]\n",
      "[4, 2, 8]\n",
      "\n",
      "\n",
      "[7, 1, 5]\n",
      "[0, 6, 3]\n",
      "[4, 2, 8]\n",
      "\n",
      "\n",
      "[7, 1, 5]\n",
      "[4, 6, 3]\n",
      "[0, 2, 8]\n",
      "\n",
      "\n",
      "[7, 1, 5]\n",
      "[4, 6, 3]\n",
      "[2, 0, 8]\n",
      "\n",
      "\n",
      "[7, 1, 5]\n",
      "[4, 0, 3]\n",
      "[2, 6, 8]\n",
      "--- 0.3477821350097656 seconds ---\n",
      "24 Moves.\n"
     ]
    }
   ],
   "source": [
    "start_time = time.time()\n",
    "\n",
    "root = Puzzle(INITIAL_BOARD, None, 0)\n",
    "winner = bfs(root)\n",
    "\n",
    "a = 0\n",
    "\n",
    "while winner is not None:\n",
    "    a += 1\n",
    "    board_print(winner.board)\n",
    "    winner = winner.parent\n",
    "\n",
    "\n",
    "print(\"--- %s seconds ---\" % (time.time() - start_time))\n",
    "print(\"{} Moves.\".format(a - 1))"
   ]
  },
  {
   "cell_type": "code",
   "execution_count": null,
   "metadata": {},
   "outputs": [],
   "source": []
  }
 ],
 "metadata": {
  "kernelspec": {
   "display_name": "Python 3",
   "language": "python",
   "name": "python3"
  },
  "language_info": {
   "codemirror_mode": {
    "name": "ipython",
    "version": 3
   },
   "file_extension": ".py",
   "mimetype": "text/x-python",
   "name": "python",
   "nbconvert_exporter": "python",
   "pygments_lexer": "ipython3",
   "version": "3.8.0"
  }
 },
 "nbformat": 4,
 "nbformat_minor": 4
}
